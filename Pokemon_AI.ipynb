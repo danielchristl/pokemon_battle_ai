{
  "nbformat": 4,
  "nbformat_minor": 0,
  "metadata": {
    "colab": {
      "provenance": [],
      "authorship_tag": "ABX9TyPHrV/gsappDwxPMaf4GoKs",
      "include_colab_link": true
    },
    "kernelspec": {
      "name": "python3",
      "display_name": "Python 3"
    },
    "language_info": {
      "name": "python"
    }
  },
  "cells": [
    {
      "cell_type": "markdown",
      "metadata": {
        "id": "view-in-github",
        "colab_type": "text"
      },
      "source": [
        "<a href=\"https://colab.research.google.com/github/danielchristl/pokemon_battle_ai/blob/main/Pokemon_AI.ipynb\" target=\"_parent\"><img src=\"https://colab.research.google.com/assets/colab-badge.svg\" alt=\"Open In Colab\"/></a>"
      ]
    },
    {
      "cell_type": "code",
      "source": [
        "import requests"
      ],
      "metadata": {
        "id": "3rhST2agEWXO"
      },
      "execution_count": null,
      "outputs": []
    },
    {
      "cell_type": "code",
      "source": [
        "pokemon_api = \"https://pokeapi.co/api/v2/pokemon/\""
      ],
      "metadata": {
        "id": "yMuCrdJFEjhQ"
      },
      "execution_count": null,
      "outputs": []
    },
    {
      "cell_type": "code",
      "execution_count": null,
      "metadata": {
        "id": "W_yhhdLiEIH2"
      },
      "outputs": [],
      "source": [
        "# Let's start with a 1v1 battle between two pokemon\n",
        "\n",
        "\n",
        "\n",
        "# Magmar\n",
        "response = requests.get(pokemon_api + \"magmar\")"
      ]
    },
    {
      "cell_type": "code",
      "source": [
        "data = response.json()\n",
        "data['stats']"
      ],
      "metadata": {
        "colab": {
          "base_uri": "https://localhost:8080/"
        },
        "id": "LkNu72RlEsyC",
        "outputId": "0e166819-8229-44da-c9e6-9ef4ec5c9d48"
      },
      "execution_count": null,
      "outputs": [
        {
          "output_type": "execute_result",
          "data": {
            "text/plain": [
              "[{'base_stat': 65,\n",
              "  'effort': 0,\n",
              "  'stat': {'name': 'hp', 'url': 'https://pokeapi.co/api/v2/stat/1/'}},\n",
              " {'base_stat': 95,\n",
              "  'effort': 0,\n",
              "  'stat': {'name': 'attack', 'url': 'https://pokeapi.co/api/v2/stat/2/'}},\n",
              " {'base_stat': 57,\n",
              "  'effort': 0,\n",
              "  'stat': {'name': 'defense', 'url': 'https://pokeapi.co/api/v2/stat/3/'}},\n",
              " {'base_stat': 100,\n",
              "  'effort': 2,\n",
              "  'stat': {'name': 'special-attack',\n",
              "   'url': 'https://pokeapi.co/api/v2/stat/4/'}},\n",
              " {'base_stat': 85,\n",
              "  'effort': 0,\n",
              "  'stat': {'name': 'special-defense',\n",
              "   'url': 'https://pokeapi.co/api/v2/stat/5/'}},\n",
              " {'base_stat': 93,\n",
              "  'effort': 0,\n",
              "  'stat': {'name': 'speed', 'url': 'https://pokeapi.co/api/v2/stat/6/'}}]"
            ]
          },
          "metadata": {},
          "execution_count": 14
        }
      ]
    },
    {
      "cell_type": "code",
      "source": [],
      "metadata": {
        "id": "VTweOcigEu22"
      },
      "execution_count": null,
      "outputs": []
    }
  ]
}